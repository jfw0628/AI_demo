{
 "cells": [
  {
   "cell_type": "code",
   "execution_count": 1,
   "id": "971f29a8-050a-4842-b0ec-af2025f2a7e3",
   "metadata": {},
   "outputs": [
    {
     "name": "stdout",
     "output_type": "stream",
     "text": [
      "1\n"
     ]
    }
   ],
   "source": [
    "print(1)"
   ]
  },
  {
   "cell_type": "code",
   "execution_count": 2,
   "id": "eb70377b",
   "metadata": {},
   "outputs": [],
   "source": [
    "import torch\n",
    "import torch.nn as nn\n",
    "import torch.nn.functional as F\n",
    "from torch.autograd import Variable\n"
   ]
  },
  {
   "cell_type": "code",
   "execution_count": 11,
   "id": "084277ac",
   "metadata": {},
   "outputs": [],
   "source": [
    "class Net(nn.Module):\n",
    "    def __init__(self):\n",
    "        super(Net, self).__init__()\n",
    "        self.conv1 = nn.Conv2d(1, 6, 5)\n",
    "        self.conv2 = nn.Conv2d(6, 16, 5)\n",
    "        self.fc1 = nn.Linear(16*5*5, 120)\n",
    "        self.fc2 = nn.Linear(120, 84)\n",
    "        self.fc3 = nn.Linear(84, 10)\n",
    "\n",
    "    def forward(self, x):\n",
    "        x = F.max_pool2d(F.relu(self.conv1(x)), (2, 2))\n",
    "        x = F.max_pool2d(F.relu(self.conv2(x)), (2))\n",
    "        x = x.view(1, self.num_flat_features(x))\n",
    "        x = F.relu(self.fc1(x))\n",
    "        x = F.relu(self.fc2(x))\n",
    "        x = self.fc3(x)\n",
    "        return x\n",
    "    \n",
    "    def num_flat_features(self, x):\n",
    "        size = x.size()[1:]\n",
    "        num_features = 1\n",
    "        for s in size:\n",
    "            num_features *= s\n",
    "        \n",
    "        return num_features\n",
    "        "
   ]
  },
  {
   "cell_type": "code",
   "execution_count": 12,
   "id": "41db9381",
   "metadata": {},
   "outputs": [
    {
     "data": {
      "text/plain": [
       "Net(\n",
       "  (conv1): Conv2d(1, 6, kernel_size=(5, 5), stride=(1, 1))\n",
       "  (conv2): Conv2d(6, 16, kernel_size=(5, 5), stride=(1, 1))\n",
       "  (fc1): Linear(in_features=400, out_features=120, bias=True)\n",
       "  (fc2): Linear(in_features=120, out_features=84, bias=True)\n",
       "  (fc3): Linear(in_features=84, out_features=10, bias=True)\n",
       ")"
      ]
     },
     "execution_count": 12,
     "metadata": {},
     "output_type": "execute_result"
    }
   ],
   "source": [
    "net = Net()\n",
    "net"
   ]
  },
  {
   "cell_type": "code",
   "execution_count": 17,
   "id": "84d67a92",
   "metadata": {},
   "outputs": [],
   "source": [
    "input = Variable(torch.randn(1,1, 32,32))"
   ]
  },
  {
   "cell_type": "code",
   "execution_count": 18,
   "id": "32254b5e",
   "metadata": {},
   "outputs": [
    {
     "data": {
      "text/plain": [
       "tensor([[[[ 1.2819, -1.9193,  0.0955,  ...,  1.2230,  1.1611, -1.6812],\n",
       "          [-1.1083, -1.3858, -0.2273,  ..., -0.1673, -0.7143,  0.7890],\n",
       "          [-1.0321, -0.8284,  0.3813,  ..., -1.4754,  1.2908,  0.2549],\n",
       "          ...,\n",
       "          [-1.5174,  2.3560,  1.2034,  ..., -0.0194, -1.2406,  0.2900],\n",
       "          [ 1.2955,  0.3333, -0.9296,  ..., -0.0190, -0.5210,  1.9129],\n",
       "          [-1.4030,  0.3824,  0.3754,  ...,  0.2172,  1.0992,  1.2143]]]])"
      ]
     },
     "execution_count": 18,
     "metadata": {},
     "output_type": "execute_result"
    }
   ],
   "source": [
    "input"
   ]
  },
  {
   "cell_type": "code",
   "execution_count": 21,
   "id": "079d4b92",
   "metadata": {},
   "outputs": [],
   "source": [
    "output = net(input)"
   ]
  },
  {
   "cell_type": "code",
   "execution_count": 16,
   "id": "e75e3c04",
   "metadata": {},
   "outputs": [
    {
     "data": {
      "text/plain": [
       "2704"
      ]
     },
     "execution_count": 16,
     "metadata": {},
     "output_type": "execute_result"
    }
   ],
   "source": [
    "16 * 13 * 13"
   ]
  },
  {
   "cell_type": "code",
   "execution_count": 22,
   "id": "33a5c9fe-a2a0-42c0-a308-1bb3b20948af",
   "metadata": {},
   "outputs": [],
   "source": [
    "net.zero_grad()"
   ]
  },
  {
   "cell_type": "code",
   "execution_count": 24,
   "id": "42b2e819-3e3c-4901-8f73-7ffa45b90c47",
   "metadata": {},
   "outputs": [],
   "source": [
    "output.backward(torch.randn(1, 10))"
   ]
  },
  {
   "cell_type": "code",
   "execution_count": 26,
   "id": "eb2e9087-31ec-4756-a38c-f075014a55c5",
   "metadata": {},
   "outputs": [],
   "source": [
    "output= net(input)"
   ]
  },
  {
   "cell_type": "code",
   "execution_count": 27,
   "id": "ade898e9-df35-4ad0-82b1-3cbdd97d5af9",
   "metadata": {},
   "outputs": [],
   "source": [
    "target = torch.randn(1, 10)"
   ]
  },
  {
   "cell_type": "code",
   "execution_count": 28,
   "id": "97bba792-3c80-49cd-9e4c-c3cc6cf4c853",
   "metadata": {},
   "outputs": [
    {
     "data": {
      "text/plain": [
       "tensor([[-0.2686,  0.4977,  0.4980,  1.3779, -0.2374, -1.0782, -0.7577,  0.7264,\n",
       "          1.0674,  0.2750]])"
      ]
     },
     "execution_count": 28,
     "metadata": {},
     "output_type": "execute_result"
    }
   ],
   "source": [
    "target"
   ]
  },
  {
   "cell_type": "code",
   "execution_count": 29,
   "id": "5ea13c48-bc6b-45e9-8353-75573311514c",
   "metadata": {},
   "outputs": [],
   "source": [
    "target = target.view(1, -1)  # make it the same shape as output\n"
   ]
  },
  {
   "cell_type": "code",
   "execution_count": 31,
   "id": "8aadb5c9-4ec1-4ac2-a999-5a8865317d62",
   "metadata": {},
   "outputs": [],
   "source": [
    "criterion = nn.MSELoss()\n",
    "\n",
    "loss = criterion(output, target)"
   ]
  },
  {
   "cell_type": "code",
   "execution_count": 32,
   "id": "06b0d396-5f50-491f-b78e-354354ea9920",
   "metadata": {},
   "outputs": [
    {
     "data": {
      "text/plain": [
       "tensor(0.5746, grad_fn=<MseLossBackward0>)"
      ]
     },
     "execution_count": 32,
     "metadata": {},
     "output_type": "execute_result"
    }
   ],
   "source": [
    "loss"
   ]
  },
  {
   "cell_type": "code",
   "execution_count": 35,
   "id": "523a4c6f-2688-484d-ae08-a920c1090635",
   "metadata": {},
   "outputs": [
    {
     "data": {
      "text/plain": [
       "<MseLossBackward0 at 0x7f84b48ebee0>"
      ]
     },
     "execution_count": 35,
     "metadata": {},
     "output_type": "execute_result"
    }
   ],
   "source": [
    "loss.grad_fn"
   ]
  },
  {
   "cell_type": "code",
   "execution_count": 37,
   "id": "3187ea35-d8ac-4af2-a1aa-3e79a752c4f0",
   "metadata": {},
   "outputs": [
    {
     "data": {
      "text/plain": [
       "<AddmmBackward0 at 0x7f84b4dce9e0>"
      ]
     },
     "execution_count": 37,
     "metadata": {},
     "output_type": "execute_result"
    }
   ],
   "source": [
    "loss.grad_fn.next_functions[0][0]"
   ]
  },
  {
   "cell_type": "code",
   "execution_count": 38,
   "id": "6f29af1f-f3cf-48e1-bb9a-71afef39c18f",
   "metadata": {},
   "outputs": [
    {
     "data": {
      "text/plain": [
       "<AccumulateGrad at 0x7f84b4dce710>"
      ]
     },
     "execution_count": 38,
     "metadata": {},
     "output_type": "execute_result"
    }
   ],
   "source": [
    "loss.grad_fn.next_functions[0][0].next_functions[0][0]"
   ]
  },
  {
   "cell_type": "code",
   "execution_count": 39,
   "id": "25758367-32e7-4c19-bd42-c39920fd1a3e",
   "metadata": {},
   "outputs": [
    {
     "name": "stdout",
     "output_type": "stream",
     "text": [
      "conv1.bias.grad before backward\n",
      "None\n",
      "conv1.bias.grad after backward\n",
      "tensor([-0.0048,  0.0108,  0.0042,  0.0087,  0.0045, -0.0018])\n"
     ]
    }
   ],
   "source": [
    "net.zero_grad()     # zeroes the gradient buffers of all parameters\n",
    "\n",
    "print('conv1.bias.grad before backward')\n",
    "print(net.conv1.bias.grad)\n",
    "\n",
    "loss.backward()\n",
    "\n",
    "print('conv1.bias.grad after backward')\n",
    "print(net.conv1.bias.grad)"
   ]
  },
  {
   "cell_type": "code",
   "execution_count": null,
   "id": "98fafce8-eff8-403f-ac6e-18efbee271f2",
   "metadata": {},
   "outputs": [],
   "source": []
  }
 ],
 "metadata": {
  "kernelspec": {
   "display_name": "Python 3 (ipykernel)",
   "language": "python",
   "name": "python3"
  },
  "language_info": {
   "codemirror_mode": {
    "name": "ipython",
    "version": 3
   },
   "file_extension": ".py",
   "mimetype": "text/x-python",
   "name": "python",
   "nbconvert_exporter": "python",
   "pygments_lexer": "ipython3",
   "version": "3.11.5"
  }
 },
 "nbformat": 4,
 "nbformat_minor": 5
}
