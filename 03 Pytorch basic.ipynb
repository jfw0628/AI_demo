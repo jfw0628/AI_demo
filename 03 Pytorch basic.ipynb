{
 "cells": [
  {
   "cell_type": "code",
   "execution_count": 8,
   "id": "da619c9d",
   "metadata": {},
   "outputs": [],
   "source": [
    "import torch\n",
    "import numpy as np"
   ]
  },
  {
   "cell_type": "code",
   "execution_count": 5,
   "id": "ea1a784b-a4b2-4d10-a81f-a3c981b7f80e",
   "metadata": {},
   "outputs": [
    {
     "data": {
      "text/plain": [
       "tensor([[1., 2.],\n",
       "        [3., 4.]], dtype=torch.float64)"
      ]
     },
     "execution_count": 5,
     "metadata": {},
     "output_type": "execute_result"
    }
   ],
   "source": [
    "torch.tensor([[1, 2], [3, 4]], dtype=torch.float64)"
   ]
  },
  {
   "cell_type": "code",
   "execution_count": 17,
   "id": "6147e59f-99a9-4052-a93e-a85f343dc294",
   "metadata": {},
   "outputs": [],
   "source": [
    "device = torch.device(0)"
   ]
  },
  {
   "cell_type": "code",
   "execution_count": 22,
   "id": "6b6c7ec4-bc89-4ff1-b903-037bb6a80ba9",
   "metadata": {},
   "outputs": [
    {
     "data": {
      "text/plain": [
       "tensor([[1., 2.],\n",
       "        [3., 4.]], device='cuda:0')"
      ]
     },
     "execution_count": 22,
     "metadata": {},
     "output_type": "execute_result"
    }
   ],
   "source": [
    "a_np_array = np.array([[1,2], [3,4]])\n",
    "tensor = torch.from_numpy(a_np_array)\n",
    "t = tensor.to(device, dtype=torch.float32)\n",
    "t"
   ]
  },
  {
   "cell_type": "code",
   "execution_count": 25,
   "id": "657a4431-c9ee-4f53-8d14-a95a078e4bd4",
   "metadata": {},
   "outputs": [
    {
     "name": "stdout",
     "output_type": "stream",
     "text": [
      "tensor([[0.9087, 0.5382, 0.0438],\n",
      "        [0.7261, 0.6863, 0.8056]])\n",
      "tensor([[1., 1., 1.],\n",
      "        [1., 1., 1.]])\n",
      "tensor([[1., 1.],\n",
      "        [1., 1.]], device='cuda:0', dtype=torch.float64)\n",
      "tensor([[0., 0., 0.],\n",
      "        [0., 0., 0.]])\n",
      "tensor([[0., 0.],\n",
      "        [0., 0.]], device='cuda:0')\n"
     ]
    }
   ],
   "source": [
    "shape = (2, 3)\n",
    "print(torch.rand(shape))\n",
    "print(torch.ones(shape))\n",
    "print(torch.ones_like(t, device=device, dtype=torch.float64))\n",
    "print(torch.zeros(shape))\n",
    "print(torch.zeros_like(t))"
   ]
  },
  {
   "cell_type": "code",
   "execution_count": 27,
   "id": "e9081661-be33-4fde-a687-491c8662e366",
   "metadata": {},
   "outputs": [
    {
     "name": "stdout",
     "output_type": "stream",
     "text": [
      "torch.Size([2, 2]) torch.float32 cuda:0\n"
     ]
    }
   ],
   "source": [
    "print(t.shape, t.dtype, t.device)"
   ]
  },
  {
   "cell_type": "code",
   "execution_count": 31,
   "id": "b2bfc49b-c227-43be-8294-98cc83151ccc",
   "metadata": {},
   "outputs": [
    {
     "data": {
      "text/plain": [
       "tensor([[7, 0, 4, 9, 0],\n",
       "        [1, 0, 6, 2, 5],\n",
       "        [4, 3, 7, 8, 0],\n",
       "        [1, 0, 3, 3, 6]])"
      ]
     },
     "execution_count": 31,
     "metadata": {},
     "output_type": "execute_result"
    }
   ],
   "source": [
    "a_tensor = torch.randint(10, (4, 5))\n",
    "a_tensor"
   ]
  },
  {
   "cell_type": "code",
   "execution_count": 33,
   "id": "9413b3cb-974f-49c7-8875-8a24928cff5a",
   "metadata": {},
   "outputs": [
    {
     "data": {
      "text/plain": [
       "tensor([7, 0, 4, 9, 0])"
      ]
     },
     "execution_count": 33,
     "metadata": {},
     "output_type": "execute_result"
    }
   ],
   "source": [
    "a_tensor[0]"
   ]
  },
  {
   "cell_type": "code",
   "execution_count": 34,
   "id": "d3febba0-1b76-49df-b37f-7f0212a308be",
   "metadata": {},
   "outputs": [
    {
     "data": {
      "text/plain": [
       "tensor([0, 5, 0, 6])"
      ]
     },
     "execution_count": 34,
     "metadata": {},
     "output_type": "execute_result"
    }
   ],
   "source": [
    "a_tensor[..., -1]"
   ]
  },
  {
   "cell_type": "code",
   "execution_count": 36,
   "id": "c56f0910-e2b8-4b3d-93ec-2fbc5c461118",
   "metadata": {},
   "outputs": [
    {
     "data": {
      "text/plain": [
       "tensor([[7, 4, 0],\n",
       "        [4, 7, 0]])"
      ]
     },
     "execution_count": 36,
     "metadata": {},
     "output_type": "execute_result"
    }
   ],
   "source": [
    "a_tensor[::2, ::2]"
   ]
  },
  {
   "cell_type": "code",
   "execution_count": 38,
   "id": "e3fb4bd1-f0e0-4ca0-bf11-2c6502eb2f16",
   "metadata": {},
   "outputs": [
    {
     "data": {
      "text/plain": [
       "tensor([[2, 0, 2, 9, 2],\n",
       "        [1, 0, 6, 2, 5],\n",
       "        [2, 3, 2, 8, 2],\n",
       "        [1, 0, 3, 3, 6]])"
      ]
     },
     "execution_count": 38,
     "metadata": {},
     "output_type": "execute_result"
    }
   ],
   "source": [
    "a_tensor[::2, ::2] = 2\n",
    "a_tensor "
   ]
  },
  {
   "cell_type": "code",
   "execution_count": 42,
   "id": "c22ae86f-a707-4946-9e5a-41466d218d74",
   "metadata": {},
   "outputs": [
    {
     "data": {
      "text/plain": [
       "tensor([[2, 0, 2, 9, 2, 2, 0, 2, 9, 2],\n",
       "        [1, 0, 6, 2, 5, 1, 0, 6, 2, 5],\n",
       "        [2, 3, 2, 8, 2, 2, 3, 2, 8, 2],\n",
       "        [1, 0, 3, 3, 6, 1, 0, 3, 3, 6]])"
      ]
     },
     "execution_count": 42,
     "metadata": {},
     "output_type": "execute_result"
    }
   ],
   "source": [
    "torch.cat((a_tensor, a_tensor), dim=1)"
   ]
  },
  {
   "cell_type": "code",
   "execution_count": 59,
   "id": "bfd66449-965b-4b0c-bd9e-42a2302c9f9c",
   "metadata": {},
   "outputs": [
    {
     "name": "stdout",
     "output_type": "stream",
     "text": [
      "[1 2 3 4 5 6 7 8]\n",
      "[[1 2]\n",
      " [3 4]\n",
      " [5 6]\n",
      " [7 8]]\n",
      "[[1 2 5 7]\n",
      " [3 4 6 8]]\n",
      "------------------------------\n",
      "(1, 2, 2) (1, 2, 2)\n",
      "[1 2 3 4 5 6 7 8] (8,)\n",
      "[[[1 2]\n",
      "  [3 4]]\n",
      "\n",
      " [[5 6]\n",
      "  [7 8]]] [[[1 2]\n",
      "  [3 4]]\n",
      "\n",
      " [[5 6]\n",
      "  [7 8]]] (2, 3)\n",
      "[[[1 2]\n",
      "  [3 4]\n",
      "  [5 6]\n",
      "  [7 8]]] (1, 4, 2)\n",
      "[[[1 2 5 6]\n",
      "  [3 4 7 8]]] (1, 2, 4)\n"
     ]
    }
   ],
   "source": [
    "a = np.array([[1, 2], [3, 4]])\n",
    "b = np.array([[5, 6], [7, 8]])\n",
    "\n",
    "print(np.concatenate((a, b), axis=None))\n",
    "print(np.concatenate((a, b), axis=0))\n",
    "print(np.concatenate((a, b.T), axis=1))\n",
    "\n",
    "print(\"-\" * 30)\n",
    "\n",
    "a = np.array([[[1, 2], [3, 4]]])\n",
    "b = np.array([[[5, 6], [7, 8]]])\n",
    "print(a.shape, b.shape)\n",
    "print(np.concatenate((a, b), axis=None), np.concatenate((a, b), axis=None).shape)\n",
    "print(np.concatenate((a, b), axis=0), np.concatenate((a, b), axis=0),shape)\n",
    "print(np.concatenate((a, b), axis=1), np.concatenate((a, b), axis=1).shape)\n",
    "print(np.concatenate((a, b), axis=2), np.concatenate((a, b), axis=2).shape)"
   ]
  },
  {
   "cell_type": "code",
   "execution_count": 61,
   "id": "2b828df8-3fec-469b-ae76-426ce4da0afa",
   "metadata": {},
   "outputs": [],
   "source": [
    "import torch"
   ]
  },
  {
   "cell_type": "code",
   "execution_count": 65,
   "id": "0be961e9-345e-4aa1-9101-20f093b25ad9",
   "metadata": {},
   "outputs": [],
   "source": [
    "a = torch.randn(2,2 ,requires_grad=True)\n",
    "b = torch.randn(2,2, requires_grad=True)"
   ]
  },
  {
   "cell_type": "code",
   "execution_count": 66,
   "id": "0db8a64b-6698-45ef-8e13-fef42b2eab92",
   "metadata": {},
   "outputs": [],
   "source": [
    "Q = 3 * a**3 - 2 * b ** 2"
   ]
  },
  {
   "cell_type": "code",
   "execution_count": 67,
   "id": "dd34f994-1725-4e97-831e-76432f2b9caf",
   "metadata": {},
   "outputs": [
    {
     "data": {
      "text/plain": [
       "(tensor([[ 0.7778, -0.5615],\n",
       "         [-0.2789,  0.2117]], requires_grad=True),\n",
       " tensor([[ 1.0669, -1.9701],\n",
       "         [ 0.5104, -0.0819]], requires_grad=True))"
      ]
     },
     "execution_count": 67,
     "metadata": {},
     "output_type": "execute_result"
    }
   ],
   "source": [
    "a, b"
   ]
  },
  {
   "cell_type": "code",
   "execution_count": 69,
   "id": "a756103c-8fb1-49cb-8a01-2b67e0c20c31",
   "metadata": {},
   "outputs": [],
   "source": [
    "external_grad = torch.tensor([[1., 1.], [1., 1.]])\n",
    "Q.backward(gradient=external_grad)"
   ]
  },
  {
   "cell_type": "code",
   "execution_count": 73,
   "id": "c672468b-726b-4f05-92f7-77aafb973ba0",
   "metadata": {},
   "outputs": [
    {
     "name": "stdout",
     "output_type": "stream",
     "text": [
      "tensor([[True, True],\n",
      "        [True, True]])\n",
      "tensor([[True, True],\n",
      "        [True, True]])\n"
     ]
    }
   ],
   "source": [
    "print(9*a**2 == a.grad)\n",
    "print(-4*b == b.grad)\n"
   ]
  },
  {
   "cell_type": "code",
   "execution_count": 71,
   "id": "e1d66b17-ed41-4b0f-9ee1-5b24d8accaf1",
   "metadata": {},
   "outputs": [
    {
     "data": {
      "text/plain": [
       "tensor([[5.4441, 2.8376],\n",
       "        [0.7000, 0.4034]])"
      ]
     },
     "execution_count": 71,
     "metadata": {},
     "output_type": "execute_result"
    }
   ],
   "source": [
    "a.grad"
   ]
  },
  {
   "cell_type": "code",
   "execution_count": null,
   "id": "bdf0d1c7-a5c5-4084-b800-3d5a0f7ae766",
   "metadata": {},
   "outputs": [],
   "source": []
  }
 ],
 "metadata": {
  "kernelspec": {
   "display_name": "Python 3 (ipykernel)",
   "language": "python",
   "name": "python3"
  },
  "language_info": {
   "codemirror_mode": {
    "name": "ipython",
    "version": 3
   },
   "file_extension": ".py",
   "mimetype": "text/x-python",
   "name": "python",
   "nbconvert_exporter": "python",
   "pygments_lexer": "ipython3",
   "version": "3.11.7"
  }
 },
 "nbformat": 4,
 "nbformat_minor": 5
}
